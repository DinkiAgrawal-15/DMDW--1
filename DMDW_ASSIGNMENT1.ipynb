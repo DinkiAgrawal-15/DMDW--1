{
  "nbformat": 4,
  "nbformat_minor": 0,
  "metadata": {
    "colab": {
      "name": "DMDW ASSIGNMENT1.ipynb",
      "provenance": [],
      "collapsed_sections": [],
      "authorship_tag": "ABX9TyNDi9XSMO2s8SFFL75Dz54A"
    },
    "kernelspec": {
      "name": "python3",
      "display_name": "Python 3"
    }
  },
  "cells": [
    {
      "cell_type": "markdown",
      "metadata": {
        "id": "MZRKX1r2BIo7"
      },
      "source": [
        ""
      ]
    },
    {
      "cell_type": "markdown",
      "metadata": {
        "id": "1veapJkOBP0I"
      },
      "source": [
        "find Mean --Sample 1"
      ]
    },
    {
      "cell_type": "code",
      "metadata": {
        "id": "DjbK4lxqBVtC",
        "outputId": "6e4fde34-dcd6-4aae-ac49-49ae9f20a8c9",
        "colab": {
          "base_uri": "https://localhost:8080/",
          "height": 34
        }
      },
      "source": [
        "(4 + 8 + 6 + 5 + 3 + 2 + 8 + 9 + 2 + 5) /10\n"
      ],
      "execution_count": null,
      "outputs": [
        {
          "output_type": "execute_result",
          "data": {
            "text/plain": [
              "5.2"
            ]
          },
          "metadata": {
            "tags": []
          },
          "execution_count": 2
        }
      ]
    },
    {
      "cell_type": "markdown",
      "metadata": {
        "id": "9RFqCgVxBb7Y"
      },
      "source": [
        "mean sample--2"
      ]
    },
    {
      "cell_type": "code",
      "metadata": {
        "id": "lq2vsy9dBgbR",
        "outputId": "07116f77-50a8-44c6-c678-179f49e6eb85",
        "colab": {
          "base_uri": "https://localhost:8080/",
          "height": 34
        }
      },
      "source": [
        "import statistics\n",
        "\n",
        "statistics.mean([4, 8, 6, 5, 3, 2, 8, 9, 2, 5])\n"
      ],
      "execution_count": null,
      "outputs": [
        {
          "output_type": "execute_result",
          "data": {
            "text/plain": [
              "5.2"
            ]
          },
          "metadata": {
            "tags": []
          },
          "execution_count": 4
        }
      ]
    },
    {
      "cell_type": "markdown",
      "metadata": {
        "id": "T8CbF-SWCgZf"
      },
      "source": [
        "Median Sample-1"
      ]
    },
    {
      "cell_type": "code",
      "metadata": {
        "id": "MegS5Ab2CxNj",
        "outputId": "933c6c72-e1a4-4882-a482-c6b29f087ce8",
        "colab": {
          "base_uri": "https://localhost:8080/",
          "height": 34
        }
      },
      "source": [
        "def my_median(sample):\n",
        "   n = len(sample)\n",
        "   index = n // 2\n",
        "  # Sample with an odd number of observations\n",
        "   if n % 2:\n",
        "        return sorted(sample)[index]\n",
        "  # Sample with an even number of observations\n",
        "        return sum(sorted(sample)[index - 1:index + 1]) / 2\n",
        "\n",
        "\n",
        "my_median([3, 5, 1, 4, 2])\n"
      ],
      "execution_count": null,
      "outputs": [
        {
          "output_type": "execute_result",
          "data": {
            "text/plain": [
              "3"
            ]
          },
          "metadata": {
            "tags": []
          },
          "execution_count": 5
        }
      ]
    },
    {
      "cell_type": "markdown",
      "metadata": {
        "id": "UqnY0yus8VVI"
      },
      "source": [
        "Median sample-2"
      ]
    },
    {
      "cell_type": "code",
      "metadata": {
        "id": "M_uYs4Yb8YLg",
        "outputId": "e8e240dc-ed90-4bc5-d7e3-9d1cc796e771",
        "colab": {
          "base_uri": "https://localhost:8080/",
          "height": 34
        }
      },
      "source": [
        "import statistics\n",
        "statistics.median([3, 5, 1, 4, 2])"
      ],
      "execution_count": null,
      "outputs": [
        {
          "output_type": "execute_result",
          "data": {
            "text/plain": [
              "3"
            ]
          },
          "metadata": {
            "tags": []
          },
          "execution_count": 8
        }
      ]
    },
    {
      "cell_type": "markdown",
      "metadata": {
        "id": "CLgTuh8x89aK"
      },
      "source": [
        "Mode sample-1"
      ]
    },
    {
      "cell_type": "code",
      "metadata": {
        "id": "uJGGCE_j8_sc",
        "outputId": "6bdb5367-17df-4c33-e2b0-4aa125e9466a",
        "colab": {
          "base_uri": "https://localhost:8080/",
          "height": 34
        }
      },
      "source": [
        "from collections import Counter\n",
        "\n",
        "def my_mode(sample):\n",
        "    c = Counter(sample)\n",
        "    return [k for k, v in c.items() if v == c.most_common(1)[0][1]]\n",
        "\n",
        "\n",
        "my_mode([\"male\", \"male\", \"female\", \"male\"])"
      ],
      "execution_count": null,
      "outputs": [
        {
          "output_type": "execute_result",
          "data": {
            "text/plain": [
              "['male']"
            ]
          },
          "metadata": {
            "tags": []
          },
          "execution_count": 10
        }
      ]
    },
    {
      "cell_type": "markdown",
      "metadata": {
        "id": "NBlM35mx9XAB"
      },
      "source": [
        "Mode sample 2"
      ]
    },
    {
      "cell_type": "code",
      "metadata": {
        "id": "TC6csxu09ZJb",
        "outputId": "a0b3e233-7928-41b3-d574-499039b0e6d5",
        "colab": {
          "base_uri": "https://localhost:8080/",
          "height": 34
        }
      },
      "source": [
        "import statistics\n",
        "\n",
        "statistics.mode([4, 1, 2, 2, 3, 5])"
      ],
      "execution_count": null,
      "outputs": [
        {
          "output_type": "execute_result",
          "data": {
            "text/plain": [
              "2"
            ]
          },
          "metadata": {
            "tags": []
          },
          "execution_count": 11
        }
      ]
    },
    {
      "cell_type": "markdown",
      "metadata": {
        "id": "bHYvVDaL-Xib"
      },
      "source": [
        "variance sample -1"
      ]
    },
    {
      "cell_type": "code",
      "metadata": {
        "id": "xfdgPwT0-hnY",
        "outputId": "1c13cb38-5b43-47ff-ef04-227109125923",
        "colab": {
          "base_uri": "https://localhost:8080/",
          "height": 34
        }
      },
      "source": [
        "def variance(data):\n",
        "     # Number of observations\n",
        "     n = len(data)\n",
        "     # Mean of the data\n",
        "     mean = sum(data) / n\n",
        "     # Square deviations\n",
        "     deviations = [(x - mean) ** 2 for x in data]\n",
        "     # Variance\n",
        "     variance = sum(deviations) / n\n",
        "     return variance\n",
        "\n",
        "variance([4, 8, 6, 5, 3, 2, 8, 9, 2, 5])"
      ],
      "execution_count": null,
      "outputs": [
        {
          "output_type": "execute_result",
          "data": {
            "text/plain": [
              "5.76"
            ]
          },
          "metadata": {
            "tags": []
          },
          "execution_count": 19
        }
      ]
    },
    {
      "cell_type": "markdown",
      "metadata": {
        "id": "XyI2j4jt_cH9"
      },
      "source": [
        "Variance sample 2:-the statistics.pvariance() and statistics.variance() are the functions that we can use to calculate the variance"
      ]
    },
    {
      "cell_type": "code",
      "metadata": {
        "id": "dUinCdeV_iio",
        "outputId": "b249dbbd-1e85-4694-861b-e9579aaf2b8d",
        "colab": {
          "base_uri": "https://localhost:8080/",
          "height": 34
        }
      },
      "source": [
        "import statistics\n",
        "\n",
        "statistics.pvariance([4, 8, 6, 5, 3, 2, 8, 9, 2, 5])"
      ],
      "execution_count": null,
      "outputs": [
        {
          "output_type": "execute_result",
          "data": {
            "text/plain": [
              "5.760000000000001"
            ]
          },
          "metadata": {
            "tags": []
          },
          "execution_count": 20
        }
      ]
    },
    {
      "cell_type": "markdown",
      "metadata": {
        "id": "buydEBC2_3qX"
      },
      "source": [
        "Standard Deviation sample-1"
      ]
    },
    {
      "cell_type": "code",
      "metadata": {
        "id": "givWeSJYAf5Q",
        "outputId": "aaf25599-b888-4473-f380-5278c82d290a",
        "colab": {
          "base_uri": "https://localhost:8080/",
          "height": 34
        }
      },
      "source": [
        "import math\n",
        "\n",
        " # We relay on our previous implementation for the variance\n",
        "def variance(data, ddof=0):\n",
        "     n = len(data)\n",
        "     mean = sum(data) / n\n",
        "     return sum((x - mean) ** 2 for x in data) / (n - ddof)\n",
        "\n",
        "def stdev(data):\n",
        "     var = variance(data)\n",
        "     std_dev = math.sqrt(var)\n",
        "     return std_dev\n",
        "\n",
        "stdev([4, 8, 6, 5, 3, 2, 8, 9, 2, 5])"
      ],
      "execution_count": null,
      "outputs": [
        {
          "output_type": "execute_result",
          "data": {
            "text/plain": [
              "2.4"
            ]
          },
          "metadata": {
            "tags": []
          },
          "execution_count": 25
        }
      ]
    },
    {
      "cell_type": "markdown",
      "metadata": {
        "id": "b1gTdYUKBgRt"
      },
      "source": [
        "Standard deviation Sample-2"
      ]
    },
    {
      "cell_type": "code",
      "metadata": {
        "id": "b61iJdUMBj_T",
        "outputId": "338a462d-6305-4d6c-eff5-f2b9bdb0d7d9",
        "colab": {
          "base_uri": "https://localhost:8080/",
          "height": 34
        }
      },
      "source": [
        "import statistics\n",
        "\n",
        "statistics.pstdev([4, 8, 6, 5, 3, 2, 8, 9, 2, 5])"
      ],
      "execution_count": null,
      "outputs": [
        {
          "output_type": "execute_result",
          "data": {
            "text/plain": [
              "2.4000000000000004"
            ]
          },
          "metadata": {
            "tags": []
          },
          "execution_count": 26
        }
      ]
    }
  ]
}